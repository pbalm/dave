{
 "cells": [
  {
   "cell_type": "code",
   "execution_count": 41,
   "metadata": {
    "collapsed": false
   },
   "outputs": [],
   "source": [
    "import numpy as np\n",
    "from math import sin,pi\n",
    "\n",
    "filedata = np.loadtxt('Input_withcolor.txt')\n",
    "\n",
    "npoints = 58\n",
    "def gencolor1(x): return 1300 - x*500/npoints\n",
    "def gencolor2(x): return 2800 - 500 * sin(x*pi/float(npoints))\n",
    "    \n",
    "newdata = [ row[0:4].tolist() + [gencolor2(row[0]), gencolor1(row[0]), 0, 0] for row in filedata ]\n",
    "\n",
    "np.savetxt('Input_funnycolor.txt', newdata, fmt=\"%.3f\")\n"
   ]
  },
  {
   "cell_type": "code",
   "execution_count": 36,
   "metadata": {
    "collapsed": false
   },
   "outputs": [
    {
     "data": {
      "text/plain": [
       "[[0.0, 3830.0, 61.886993, 0.5, 1300.0, 2800.0, 0, 0],\n",
       " [1.0, 3791.0, 61.5711, 0.5, 1297.5, 2792.1463413440897, 0, 0],\n",
       " [2.0, 3681.0, 60.671246, 0.5, 1295.0, 2784.2946204609357, 0, 0],\n",
       " [3.0, 3605.0, 60.041653, 0.5, 1292.5, 2776.4467746451787, 0, 0],\n",
       " [4.0, 3815.0, 61.765686, 0.5, 1290.0, 2768.6047402353433, 0, 0],\n",
       " [5.0, 3785.0, 61.522354, 0.5, 1287.5, 2760.7704521360774, 0, 0],\n",
       " [6.0, 3733.0, 61.09828, 0.5, 1285.0, 2752.945843340743, 0, 0],\n",
       " [7.0, 3889.0, 62.361847, 0.5, 1282.5, 2745.1328444544774, 0, 0],\n",
       " [8.0, 3762.0, 61.335144, 0.5, 1280.0, 2737.3333832178478, 0, 0],\n",
       " [9.0, 3725.0, 61.03278, 0.5, 1277.5, 2729.549384031209, 0, 0]]"
      ]
     },
     "execution_count": 36,
     "metadata": {},
     "output_type": "execute_result"
    }
   ],
   "source": [
    "def gencolor1(x): return 1300 - x*500/npoints\n",
    "def gencolor2(x): return 2800 - 500 * sin(x*pi/float(npoints))\n",
    "    \n",
    "newdata = [ row[0:4].tolist() + [gencolor1(row[0]), gencolor2(row[0]), 0, 0] for row in filedata ]\n",
    "\n"
   ]
  },
  {
   "cell_type": "code",
   "execution_count": 14,
   "metadata": {
    "collapsed": false
   },
   "outputs": [],
   "source": [
    "from math import sin,pi\n",
    "\n",
    "\n",
    "xdata = range(npoints)\n",
    "ydata = [ 2800 - 500 * sin(x*pi/float(npoints)) for x in xdata]    "
   ]
  },
  {
   "cell_type": "code",
   "execution_count": 15,
   "metadata": {
    "collapsed": false
   },
   "outputs": [
    {
     "data": {
      "text/plain": [
       "[<matplotlib.lines.Line2D at 0x7f1063ee3dd0>]"
      ]
     },
     "execution_count": 15,
     "metadata": {},
     "output_type": "execute_result"
    },
    {
     "data": {
      "image/png": "[encoded data removed]",
      "text/plain": [
       "<matplotlib.figure.Figure at 0x7f1063fc9c10>"
      ]
     },
     "metadata": {},
     "output_type": "display_data"
    }
   ],
   "source": [
    "import matplotlib.pyplot as plt\n",
    "%matplotlib inline\n",
    "\n",
    "plt.plot(xdata, ydata)"
   ]
  },
  {
   "cell_type": "code",
   "execution_count": 22,
   "metadata": {
    "collapsed": false
   },
   "outputs": [
    {
     "data": {
      "text/plain": [
       "[0, 1, 2, 3, 4]"
      ]
     },
     "execution_count": 22,
     "metadata": {},
     "output_type": "execute_result"
    }
   ],
   "source": [
    "range(5)"
   ]
  },
  {
   "cell_type": "code",
   "execution_count": 34,
   "metadata": {
    "collapsed": false
   },
   "outputs": [
    {
     "ename": "ValueError",
     "evalue": "operands could not be broadcast together with shapes (5,) (2,) ",
     "output_type": "error",
     "traceback": [
      "\u001b[0;31m---------------------------------------------------------------------------\u001b[0m",
      "\u001b[0;31mValueError\u001b[0m                                Traceback (most recent call last)",
      "\u001b[0;32m<ipython-input-34-387e07737060>\u001b[0m in \u001b[0;36m<module>\u001b[0;34m()\u001b[0m\n\u001b[0;32m----> 1\u001b[0;31m \u001b[0mnp\u001b[0m\u001b[0;34m.\u001b[0m\u001b[0mzeros\u001b[0m\u001b[0;34m(\u001b[0m\u001b[0;36m5\u001b[0m\u001b[0;34m)\u001b[0m \u001b[0;34m+\u001b[0m \u001b[0;34m[\u001b[0m\u001b[0;36m1\u001b[0m\u001b[0;34m,\u001b[0m \u001b[0;36m2\u001b[0m\u001b[0;34m]\u001b[0m\u001b[0;34m\u001b[0m\u001b[0m\n\u001b[0m",
      "\u001b[0;31mValueError\u001b[0m: operands could not be broadcast together with shapes (5,) (2,) "
     ]
    }
   ],
   "source": [
    "np.zeros(5) + [1, 2]\n"
   ]
  },
  {
   "cell_type": "code",
   "execution_count": 33,
   "metadata": {
    "collapsed": false
   },
   "outputs": [
    {
     "data": {
      "text/plain": [
       "[0, 1, 2, 3]"
      ]
     },
     "execution_count": 33,
     "metadata": {},
     "output_type": "execute_result"
    }
   ],
   "source": [
    "[0, 1] + [2, 3]"
   ]
  },
  {
   "cell_type": "code",
   "execution_count": null,
   "metadata": {
    "collapsed": true
   },
   "outputs": [],
   "source": []
  }
 ],
 "metadata": {
  "kernelspec": {
   "display_name": "Python 2",
   "language": "python",
   "name": "python2"
  },
  "language_info": {
   "codemirror_mode": {
    "name": "ipython",
    "version": 2
   },
   "file_extension": ".py",
   "mimetype": "text/x-python",
   "name": "python",
   "nbconvert_exporter": "python",
   "pygments_lexer": "ipython2",
   "version": "2.7.6"
  }
 },
 "nbformat": 4,
 "nbformat_minor": 0
}
